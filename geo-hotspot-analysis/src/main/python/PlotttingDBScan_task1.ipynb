{
 "cells": [
  {
   "cell_type": "code",
   "execution_count": 4,
   "metadata": {},
   "outputs": [],
   "source": [
    "import matplotlib\n",
    "matplotlib.use('AGG')\n",
    "\n",
    "import numpy as np # linear algebra\n",
    "import pandas as pd # data processing, CSV file I/O (e.g. pd.read_csv)\n",
    "\n",
    "import matplotlib.pyplot as plt\n",
    "import matplotlib.cm\n",
    "\n",
    "from mpl_toolkits.basemap import Basemap\n",
    "from matplotlib.patches import Polygon\n",
    "from matplotlib.collections import PatchCollection\n",
    "from matplotlib.colors import Normalize\n",
    "\n",
    "import matplotlib.pyplot as plt\n",
    "import matplotlib.cm\n",
    " \n",
    "from mpl_toolkits.basemap import Basemap\n",
    "from matplotlib.patches import Polygon\n",
    "from matplotlib.collections import PatchCollection\n",
    "from matplotlib.colors import Normalize\n",
    "import warnings\n",
    "\n",
    "#warnings.filterwarnings('ignore')"
   ]
  },
  {
   "cell_type": "code",
   "execution_count": 5,
   "metadata": {},
   "outputs": [],
   "source": [
    "file_length= 10000\n",
    "plot_file = '/mnt/1717A37A1971CE02/WorkSpaces/BDMA/data-mining/bdma-data-mining/db-scan-lab/data/output_dbscan.csv' + str(file_length)\n",
    "fig_file = 'plot_dbscan.png'"
   ]
  },
  {
   "cell_type": "code",
   "execution_count": 6,
   "metadata": {},
   "outputs": [
    {
     "data": {
      "text/html": [
       "<div>\n",
       "<style scoped>\n",
       "    .dataframe tbody tr th:only-of-type {\n",
       "        vertical-align: middle;\n",
       "    }\n",
       "\n",
       "    .dataframe tbody tr th {\n",
       "        vertical-align: top;\n",
       "    }\n",
       "\n",
       "    .dataframe thead th {\n",
       "        text-align: right;\n",
       "    }\n",
       "</style>\n",
       "<table border=\"1\" class=\"dataframe\">\n",
       "  <thead>\n",
       "    <tr style=\"text-align: right;\">\n",
       "      <th></th>\n",
       "      <th>0</th>\n",
       "      <th>1</th>\n",
       "      <th>2</th>\n",
       "    </tr>\n",
       "  </thead>\n",
       "  <tbody>\n",
       "    <tr>\n",
       "      <th>0</th>\n",
       "      <td>-0.081573</td>\n",
       "      <td>51.337442</td>\n",
       "      <td>0</td>\n",
       "    </tr>\n",
       "    <tr>\n",
       "      <th>1</th>\n",
       "      <td>0.056130</td>\n",
       "      <td>51.533222</td>\n",
       "      <td>0</td>\n",
       "    </tr>\n",
       "    <tr>\n",
       "      <th>2</th>\n",
       "      <td>0.046479</td>\n",
       "      <td>51.552726</td>\n",
       "      <td>0</td>\n",
       "    </tr>\n",
       "    <tr>\n",
       "      <th>3</th>\n",
       "      <td>-0.038379</td>\n",
       "      <td>51.565236</td>\n",
       "      <td>0</td>\n",
       "    </tr>\n",
       "    <tr>\n",
       "      <th>4</th>\n",
       "      <td>-0.008156</td>\n",
       "      <td>51.513918</td>\n",
       "      <td>0</td>\n",
       "    </tr>\n",
       "  </tbody>\n",
       "</table>\n",
       "</div>"
      ],
      "text/plain": [
       "          0          1  2\n",
       "0 -0.081573  51.337442  0\n",
       "1  0.056130  51.533222  0\n",
       "2  0.046479  51.552726  0\n",
       "3 -0.038379  51.565236  0\n",
       "4 -0.008156  51.513918  0"
      ]
     },
     "execution_count": 6,
     "metadata": {},
     "output_type": "execute_result"
    }
   ],
   "source": [
    "df = pd.read_csv(plot_file, header=None, skip_blank_lines=True)\n",
    "\n",
    "df.head()"
   ]
  },
  {
   "cell_type": "code",
   "execution_count": null,
   "metadata": {},
   "outputs": [],
   "source": []
  },
  {
   "cell_type": "code",
   "execution_count": 8,
   "metadata": {},
   "outputs": [
    {
     "name": "stdout",
     "output_type": "stream",
     "text": [
      "Number of clusters :15\n"
     ]
    }
   ],
   "source": [
    "# Simple plot\n",
    "labels = df[2]\n",
    "X = df\n",
    "\n",
    "unique_labels = set(labels)\n",
    "print \"Number of clusters :\" + str(len(unique_labels))"
   ]
  },
  {
   "cell_type": "code",
   "execution_count": 11,
   "metadata": {},
   "outputs": [],
   "source": [
    "## Initialize the map\n",
    "fig, ax = plt.subplots(figsize=(10,10))\n",
    "m = Basemap(llcrnrlon=-7.5600,llcrnrlat=49.7600,\n",
    "            urcrnrlon=2.7800,urcrnrlat=60.840,\n",
    "            resolution='l', # Set using letters, e.g. c is a crude drawing, f is a full detailed drawing\n",
    "            projection='merc', # The projection style is what gives us a 2D view of the world for this\n",
    "            lon_0=-4.36,lat_0=54.7)#, # Setting the central point of the image\n",
    "            #epsg=27700) # Setting the coordinate system we're using\n",
    "\n",
    "m.drawmapboundary(fill_color='#46bcec') # Make your map into any style you like\n",
    "#m.fillcontinents(color='#f2f2f2',lake_color='#46bcec') # Make your map into any style you like\n",
    "m.drawcoastlines()\n",
    "#m.drawrivers() # Default colour is black but it can be customised\n",
    "m.drawcountries()\n",
    "\n",
    "labels = df[2]\n",
    "X = df\n",
    "\n",
    "unique_labels = set(labels)\n",
    "colors = [plt.cm.Spectral(each)\n",
    "          for each in np.linspace(0, 1, len(unique_labels))]\n",
    "\n",
    "colr_map = {}\n",
    "\n",
    "for l,c in zip(unique_labels, colors):\n",
    "    colr_map[l]=c\n",
    "\n",
    "#df['lon_lat'] = list(zip(df[3], df[4])) # Creating tuples\n",
    "\n",
    "\n",
    "for row in X.itertuples():\n",
    "        # indexing is +1 \n",
    "        x, y = m(row[1], row[2])\n",
    "        m.plot(x, y, marker = 'o', c=colr_map[row[3]], markersize=1, alpha=0.8)\n",
    "fig.savefig(fig_file, dpi=200)   "
   ]
  },
  {
   "cell_type": "code",
   "execution_count": null,
   "metadata": {},
   "outputs": [],
   "source": []
  },
  {
   "cell_type": "code",
   "execution_count": null,
   "metadata": {},
   "outputs": [],
   "source": []
  },
  {
   "cell_type": "code",
   "execution_count": null,
   "metadata": {},
   "outputs": [],
   "source": [
    "\n",
    "\n"
   ]
  },
  {
   "cell_type": "code",
   "execution_count": null,
   "metadata": {},
   "outputs": [],
   "source": []
  }
 ],
 "metadata": {
  "kernelspec": {
   "display_name": "Python 2",
   "language": "python",
   "name": "python2"
  },
  "language_info": {
   "codemirror_mode": {
    "name": "ipython",
    "version": 2
   },
   "file_extension": ".py",
   "mimetype": "text/x-python",
   "name": "python",
   "nbconvert_exporter": "python",
   "pygments_lexer": "ipython2",
   "version": "2.7.15rc1"
  }
 },
 "nbformat": 4,
 "nbformat_minor": 2
}
