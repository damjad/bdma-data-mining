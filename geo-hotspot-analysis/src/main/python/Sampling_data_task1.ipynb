{
 "cells": [
  {
   "cell_type": "code",
   "execution_count": 15,
   "metadata": {},
   "outputs": [
    {
     "data": {
      "text/plain": [
       "'/mnt/1717A37A1971CE02/WorkSpaces/BDMA/data-mining/DataMining_BDMA/input_data/accidents_2012_to_2014.csv400000'"
      ]
     },
     "execution_count": 15,
     "metadata": {},
     "output_type": "execute_result"
    }
   ],
   "source": [
    "import numpy as np # linear algebra\n",
    "import pandas as pd # data processing, CSV file I/O (e.g. pd.read_csv)\n",
    "\n",
    "file_name = '/mnt/1717A37A1971CE02/WorkSpaces/BDMA/data-mining/DataMining_BDMA/input_data/accidents_2012_to_2014.csv'\n",
    "n_samples = 400000\n",
    "o_file_name = '/mnt/1717A37A1971CE02/WorkSpaces/BDMA/data-mining/DataMining_BDMA/input_data/accidents_2012_to_2014.csv' + str(n_samples)\n",
    "o_file_name"
   ]
  },
  {
   "cell_type": "code",
   "execution_count": 16,
   "metadata": {},
   "outputs": [
    {
     "data": {
      "text/html": [
       "<div>\n",
       "<style scoped>\n",
       "    .dataframe tbody tr th:only-of-type {\n",
       "        vertical-align: middle;\n",
       "    }\n",
       "\n",
       "    .dataframe tbody tr th {\n",
       "        vertical-align: top;\n",
       "    }\n",
       "\n",
       "    .dataframe thead th {\n",
       "        text-align: right;\n",
       "    }\n",
       "</style>\n",
       "<table border=\"1\" class=\"dataframe\">\n",
       "  <thead>\n",
       "    <tr style=\"text-align: right;\">\n",
       "      <th></th>\n",
       "      <th>Accident_Index</th>\n",
       "      <th>Longitude</th>\n",
       "      <th>Latitude</th>\n",
       "    </tr>\n",
       "  </thead>\n",
       "  <tbody>\n",
       "    <tr>\n",
       "      <th>74926</th>\n",
       "      <td>2.01E+12</td>\n",
       "      <td>-1.570000</td>\n",
       "      <td>55.079497</td>\n",
       "    </tr>\n",
       "    <tr>\n",
       "      <th>232181</th>\n",
       "      <td>2013160C02471</td>\n",
       "      <td>-0.885479</td>\n",
       "      <td>53.712428</td>\n",
       "    </tr>\n",
       "    <tr>\n",
       "      <th>431227</th>\n",
       "      <td>2.01E+12</td>\n",
       "      <td>0.773321</td>\n",
       "      <td>51.106606</td>\n",
       "    </tr>\n",
       "    <tr>\n",
       "      <th>461619</th>\n",
       "      <td>201497BF01507</td>\n",
       "      <td>-4.340825</td>\n",
       "      <td>55.925565</td>\n",
       "    </tr>\n",
       "    <tr>\n",
       "      <th>90649</th>\n",
       "      <td>2012160D00521</td>\n",
       "      <td>-0.343995</td>\n",
       "      <td>53.747660</td>\n",
       "    </tr>\n",
       "  </tbody>\n",
       "</table>\n",
       "</div>"
      ],
      "text/plain": [
       "       Accident_Index  Longitude   Latitude\n",
       "74926        2.01E+12  -1.570000  55.079497\n",
       "232181  2013160C02471  -0.885479  53.712428\n",
       "431227       2.01E+12   0.773321  51.106606\n",
       "461619  201497BF01507  -4.340825  55.925565\n",
       "90649   2012160D00521  -0.343995  53.747660"
      ]
     },
     "execution_count": 16,
     "metadata": {},
     "output_type": "execute_result"
    }
   ],
   "source": [
    "df = pd.read_csv(file_name)\n",
    "df = df[['Accident_Index','Longitude','Latitude']]\n",
    "df = df.sample(n=n_samples)\n",
    "df.head()"
   ]
  },
  {
   "cell_type": "code",
   "execution_count": 17,
   "metadata": {},
   "outputs": [
    {
     "data": {
      "text/plain": [
       "(400000, 3)"
      ]
     },
     "execution_count": 17,
     "metadata": {},
     "output_type": "execute_result"
    }
   ],
   "source": [
    "df.shape"
   ]
  },
  {
   "cell_type": "code",
   "execution_count": 18,
   "metadata": {},
   "outputs": [],
   "source": [
    "df.to_csv(o_file_name, index=False, header=False)"
   ]
  },
  {
   "cell_type": "code",
   "execution_count": null,
   "metadata": {},
   "outputs": [],
   "source": []
  }
 ],
 "metadata": {
  "kernelspec": {
   "display_name": "Python 2",
   "language": "python",
   "name": "python2"
  },
  "language_info": {
   "codemirror_mode": {
    "name": "ipython",
    "version": 2
   },
   "file_extension": ".py",
   "mimetype": "text/x-python",
   "name": "python",
   "nbconvert_exporter": "python",
   "pygments_lexer": "ipython2",
   "version": "2.7.15rc1"
  }
 },
 "nbformat": 4,
 "nbformat_minor": 2
}
